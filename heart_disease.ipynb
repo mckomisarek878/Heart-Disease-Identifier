{
  "nbformat": 4,
  "nbformat_minor": 0,
  "metadata": {
    "colab": {
      "provenance": [],
      "gpuType": "T4"
    },
    "kernelspec": {
      "name": "python3",
      "display_name": "Python 3"
    },
    "language_info": {
      "name": "python"
    },
    "accelerator": "GPU"
  },
  "cells": [
    {
      "cell_type": "code",
      "execution_count": null,
      "metadata": {
        "colab": {
          "base_uri": "https://localhost:8080/"
        },
        "id": "_yMlmR2Y95oF",
        "outputId": "4b58a0f5-1054-4965-eab8-a4dcb71ed03f"
      },
      "outputs": [
        {
          "output_type": "stream",
          "name": "stdout",
          "text": [
            "/content/drive/MyDrive\n"
          ]
        }
      ],
      "source": [
        "# ensure csv file is in current working directory\n",
        "# if it isnt, do so or feel free to edit the commented line below\n",
        "\n",
        "#%cd drive/MyDrive"
      ]
    },
    {
      "cell_type": "markdown",
      "source": [
        "# Feature Engineering"
      ],
      "metadata": {
        "id": "eRZ2K0QKcu9q"
      }
    },
    {
      "cell_type": "code",
      "source": [
        "# import heart-disease dataset\n",
        "import pandas as pd\n",
        "df = pd.read_csv('heart.csv')"
      ],
      "metadata": {
        "id": "beOFysYA-Bgb"
      },
      "execution_count": null,
      "outputs": []
    },
    {
      "cell_type": "code",
      "source": [
        "# inspect datatypes\n",
        "df.info()"
      ],
      "metadata": {
        "colab": {
          "base_uri": "https://localhost:8080/"
        },
        "id": "dpr5MsZC-dgk",
        "outputId": "f87f6e69-9976-4ab2-d3d3-50560e9485c5"
      },
      "execution_count": null,
      "outputs": [
        {
          "output_type": "stream",
          "name": "stdout",
          "text": [
            "<class 'pandas.core.frame.DataFrame'>\n",
            "RangeIndex: 918 entries, 0 to 917\n",
            "Data columns (total 12 columns):\n",
            " #   Column          Non-Null Count  Dtype  \n",
            "---  ------          --------------  -----  \n",
            " 0   Age             918 non-null    int64  \n",
            " 1   Sex             918 non-null    object \n",
            " 2   ChestPainType   918 non-null    object \n",
            " 3   RestingBP       918 non-null    int64  \n",
            " 4   Cholesterol     918 non-null    int64  \n",
            " 5   FastingBS       918 non-null    int64  \n",
            " 6   RestingECG      918 non-null    object \n",
            " 7   MaxHR           918 non-null    int64  \n",
            " 8   ExerciseAngina  918 non-null    object \n",
            " 9   Oldpeak         918 non-null    float64\n",
            " 10  ST_Slope        918 non-null    object \n",
            " 11  HeartDisease    918 non-null    int64  \n",
            "dtypes: float64(1), int64(6), object(5)\n",
            "memory usage: 86.2+ KB\n"
          ]
        }
      ]
    },
    {
      "cell_type": "code",
      "source": [
        "# further inspection\n",
        "df.head()"
      ],
      "metadata": {
        "colab": {
          "base_uri": "https://localhost:8080/",
          "height": 206
        },
        "id": "ihf47U_N-fK7",
        "outputId": "e5f97767-0ec7-46cf-a7ef-3064464a2e77"
      },
      "execution_count": null,
      "outputs": [
        {
          "output_type": "execute_result",
          "data": {
            "text/plain": [
              "   Age Sex ChestPainType  RestingBP  Cholesterol  FastingBS RestingECG  MaxHR  \\\n",
              "0   40   M           ATA        140          289          0     Normal    172   \n",
              "1   49   F           NAP        160          180          0     Normal    156   \n",
              "2   37   M           ATA        130          283          0         ST     98   \n",
              "3   48   F           ASY        138          214          0     Normal    108   \n",
              "4   54   M           NAP        150          195          0     Normal    122   \n",
              "\n",
              "  ExerciseAngina  Oldpeak ST_Slope  HeartDisease  \n",
              "0              N      0.0       Up             0  \n",
              "1              N      1.0     Flat             1  \n",
              "2              N      0.0       Up             0  \n",
              "3              Y      1.5     Flat             1  \n",
              "4              N      0.0       Up             0  "
            ],
            "text/html": [
              "\n",
              "  <div id=\"df-1196cd60-4f3d-4b04-82d3-c14d595d9286\" class=\"colab-df-container\">\n",
              "    <div>\n",
              "<style scoped>\n",
              "    .dataframe tbody tr th:only-of-type {\n",
              "        vertical-align: middle;\n",
              "    }\n",
              "\n",
              "    .dataframe tbody tr th {\n",
              "        vertical-align: top;\n",
              "    }\n",
              "\n",
              "    .dataframe thead th {\n",
              "        text-align: right;\n",
              "    }\n",
              "</style>\n",
              "<table border=\"1\" class=\"dataframe\">\n",
              "  <thead>\n",
              "    <tr style=\"text-align: right;\">\n",
              "      <th></th>\n",
              "      <th>Age</th>\n",
              "      <th>Sex</th>\n",
              "      <th>ChestPainType</th>\n",
              "      <th>RestingBP</th>\n",
              "      <th>Cholesterol</th>\n",
              "      <th>FastingBS</th>\n",
              "      <th>RestingECG</th>\n",
              "      <th>MaxHR</th>\n",
              "      <th>ExerciseAngina</th>\n",
              "      <th>Oldpeak</th>\n",
              "      <th>ST_Slope</th>\n",
              "      <th>HeartDisease</th>\n",
              "    </tr>\n",
              "  </thead>\n",
              "  <tbody>\n",
              "    <tr>\n",
              "      <th>0</th>\n",
              "      <td>40</td>\n",
              "      <td>M</td>\n",
              "      <td>ATA</td>\n",
              "      <td>140</td>\n",
              "      <td>289</td>\n",
              "      <td>0</td>\n",
              "      <td>Normal</td>\n",
              "      <td>172</td>\n",
              "      <td>N</td>\n",
              "      <td>0.0</td>\n",
              "      <td>Up</td>\n",
              "      <td>0</td>\n",
              "    </tr>\n",
              "    <tr>\n",
              "      <th>1</th>\n",
              "      <td>49</td>\n",
              "      <td>F</td>\n",
              "      <td>NAP</td>\n",
              "      <td>160</td>\n",
              "      <td>180</td>\n",
              "      <td>0</td>\n",
              "      <td>Normal</td>\n",
              "      <td>156</td>\n",
              "      <td>N</td>\n",
              "      <td>1.0</td>\n",
              "      <td>Flat</td>\n",
              "      <td>1</td>\n",
              "    </tr>\n",
              "    <tr>\n",
              "      <th>2</th>\n",
              "      <td>37</td>\n",
              "      <td>M</td>\n",
              "      <td>ATA</td>\n",
              "      <td>130</td>\n",
              "      <td>283</td>\n",
              "      <td>0</td>\n",
              "      <td>ST</td>\n",
              "      <td>98</td>\n",
              "      <td>N</td>\n",
              "      <td>0.0</td>\n",
              "      <td>Up</td>\n",
              "      <td>0</td>\n",
              "    </tr>\n",
              "    <tr>\n",
              "      <th>3</th>\n",
              "      <td>48</td>\n",
              "      <td>F</td>\n",
              "      <td>ASY</td>\n",
              "      <td>138</td>\n",
              "      <td>214</td>\n",
              "      <td>0</td>\n",
              "      <td>Normal</td>\n",
              "      <td>108</td>\n",
              "      <td>Y</td>\n",
              "      <td>1.5</td>\n",
              "      <td>Flat</td>\n",
              "      <td>1</td>\n",
              "    </tr>\n",
              "    <tr>\n",
              "      <th>4</th>\n",
              "      <td>54</td>\n",
              "      <td>M</td>\n",
              "      <td>NAP</td>\n",
              "      <td>150</td>\n",
              "      <td>195</td>\n",
              "      <td>0</td>\n",
              "      <td>Normal</td>\n",
              "      <td>122</td>\n",
              "      <td>N</td>\n",
              "      <td>0.0</td>\n",
              "      <td>Up</td>\n",
              "      <td>0</td>\n",
              "    </tr>\n",
              "  </tbody>\n",
              "</table>\n",
              "</div>\n",
              "    <div class=\"colab-df-buttons\">\n",
              "\n",
              "  <div class=\"colab-df-container\">\n",
              "    <button class=\"colab-df-convert\" onclick=\"convertToInteractive('df-1196cd60-4f3d-4b04-82d3-c14d595d9286')\"\n",
              "            title=\"Convert this dataframe to an interactive table.\"\n",
              "            style=\"display:none;\">\n",
              "\n",
              "  <svg xmlns=\"http://www.w3.org/2000/svg\" height=\"24px\" viewBox=\"0 -960 960 960\">\n",
              "    <path d=\"M120-120v-720h720v720H120Zm60-500h600v-160H180v160Zm220 220h160v-160H400v160Zm0 220h160v-160H400v160ZM180-400h160v-160H180v160Zm440 0h160v-160H620v160ZM180-180h160v-160H180v160Zm440 0h160v-160H620v160Z\"/>\n",
              "  </svg>\n",
              "    </button>\n",
              "\n",
              "  <style>\n",
              "    .colab-df-container {\n",
              "      display:flex;\n",
              "      gap: 12px;\n",
              "    }\n",
              "\n",
              "    .colab-df-convert {\n",
              "      background-color: #E8F0FE;\n",
              "      border: none;\n",
              "      border-radius: 50%;\n",
              "      cursor: pointer;\n",
              "      display: none;\n",
              "      fill: #1967D2;\n",
              "      height: 32px;\n",
              "      padding: 0 0 0 0;\n",
              "      width: 32px;\n",
              "    }\n",
              "\n",
              "    .colab-df-convert:hover {\n",
              "      background-color: #E2EBFA;\n",
              "      box-shadow: 0px 1px 2px rgba(60, 64, 67, 0.3), 0px 1px 3px 1px rgba(60, 64, 67, 0.15);\n",
              "      fill: #174EA6;\n",
              "    }\n",
              "\n",
              "    .colab-df-buttons div {\n",
              "      margin-bottom: 4px;\n",
              "    }\n",
              "\n",
              "    [theme=dark] .colab-df-convert {\n",
              "      background-color: #3B4455;\n",
              "      fill: #D2E3FC;\n",
              "    }\n",
              "\n",
              "    [theme=dark] .colab-df-convert:hover {\n",
              "      background-color: #434B5C;\n",
              "      box-shadow: 0px 1px 3px 1px rgba(0, 0, 0, 0.15);\n",
              "      filter: drop-shadow(0px 1px 2px rgba(0, 0, 0, 0.3));\n",
              "      fill: #FFFFFF;\n",
              "    }\n",
              "  </style>\n",
              "\n",
              "    <script>\n",
              "      const buttonEl =\n",
              "        document.querySelector('#df-1196cd60-4f3d-4b04-82d3-c14d595d9286 button.colab-df-convert');\n",
              "      buttonEl.style.display =\n",
              "        google.colab.kernel.accessAllowed ? 'block' : 'none';\n",
              "\n",
              "      async function convertToInteractive(key) {\n",
              "        const element = document.querySelector('#df-1196cd60-4f3d-4b04-82d3-c14d595d9286');\n",
              "        const dataTable =\n",
              "          await google.colab.kernel.invokeFunction('convertToInteractive',\n",
              "                                                    [key], {});\n",
              "        if (!dataTable) return;\n",
              "\n",
              "        const docLinkHtml = 'Like what you see? Visit the ' +\n",
              "          '<a target=\"_blank\" href=https://colab.research.google.com/notebooks/data_table.ipynb>data table notebook</a>'\n",
              "          + ' to learn more about interactive tables.';\n",
              "        element.innerHTML = '';\n",
              "        dataTable['output_type'] = 'display_data';\n",
              "        await google.colab.output.renderOutput(dataTable, element);\n",
              "        const docLink = document.createElement('div');\n",
              "        docLink.innerHTML = docLinkHtml;\n",
              "        element.appendChild(docLink);\n",
              "      }\n",
              "    </script>\n",
              "  </div>\n",
              "\n",
              "\n",
              "    <div id=\"df-bf7936f2-8185-40b5-aa86-1a72d1dc2161\">\n",
              "      <button class=\"colab-df-quickchart\" onclick=\"quickchart('df-bf7936f2-8185-40b5-aa86-1a72d1dc2161')\"\n",
              "                title=\"Suggest charts\"\n",
              "                style=\"display:none;\">\n",
              "\n",
              "<svg xmlns=\"http://www.w3.org/2000/svg\" height=\"24px\"viewBox=\"0 0 24 24\"\n",
              "     width=\"24px\">\n",
              "    <g>\n",
              "        <path d=\"M19 3H5c-1.1 0-2 .9-2 2v14c0 1.1.9 2 2 2h14c1.1 0 2-.9 2-2V5c0-1.1-.9-2-2-2zM9 17H7v-7h2v7zm4 0h-2V7h2v10zm4 0h-2v-4h2v4z\"/>\n",
              "    </g>\n",
              "</svg>\n",
              "      </button>\n",
              "\n",
              "<style>\n",
              "  .colab-df-quickchart {\n",
              "      --bg-color: #E8F0FE;\n",
              "      --fill-color: #1967D2;\n",
              "      --hover-bg-color: #E2EBFA;\n",
              "      --hover-fill-color: #174EA6;\n",
              "      --disabled-fill-color: #AAA;\n",
              "      --disabled-bg-color: #DDD;\n",
              "  }\n",
              "\n",
              "  [theme=dark] .colab-df-quickchart {\n",
              "      --bg-color: #3B4455;\n",
              "      --fill-color: #D2E3FC;\n",
              "      --hover-bg-color: #434B5C;\n",
              "      --hover-fill-color: #FFFFFF;\n",
              "      --disabled-bg-color: #3B4455;\n",
              "      --disabled-fill-color: #666;\n",
              "  }\n",
              "\n",
              "  .colab-df-quickchart {\n",
              "    background-color: var(--bg-color);\n",
              "    border: none;\n",
              "    border-radius: 50%;\n",
              "    cursor: pointer;\n",
              "    display: none;\n",
              "    fill: var(--fill-color);\n",
              "    height: 32px;\n",
              "    padding: 0;\n",
              "    width: 32px;\n",
              "  }\n",
              "\n",
              "  .colab-df-quickchart:hover {\n",
              "    background-color: var(--hover-bg-color);\n",
              "    box-shadow: 0 1px 2px rgba(60, 64, 67, 0.3), 0 1px 3px 1px rgba(60, 64, 67, 0.15);\n",
              "    fill: var(--button-hover-fill-color);\n",
              "  }\n",
              "\n",
              "  .colab-df-quickchart-complete:disabled,\n",
              "  .colab-df-quickchart-complete:disabled:hover {\n",
              "    background-color: var(--disabled-bg-color);\n",
              "    fill: var(--disabled-fill-color);\n",
              "    box-shadow: none;\n",
              "  }\n",
              "\n",
              "  .colab-df-spinner {\n",
              "    border: 2px solid var(--fill-color);\n",
              "    border-color: transparent;\n",
              "    border-bottom-color: var(--fill-color);\n",
              "    animation:\n",
              "      spin 1s steps(1) infinite;\n",
              "  }\n",
              "\n",
              "  @keyframes spin {\n",
              "    0% {\n",
              "      border-color: transparent;\n",
              "      border-bottom-color: var(--fill-color);\n",
              "      border-left-color: var(--fill-color);\n",
              "    }\n",
              "    20% {\n",
              "      border-color: transparent;\n",
              "      border-left-color: var(--fill-color);\n",
              "      border-top-color: var(--fill-color);\n",
              "    }\n",
              "    30% {\n",
              "      border-color: transparent;\n",
              "      border-left-color: var(--fill-color);\n",
              "      border-top-color: var(--fill-color);\n",
              "      border-right-color: var(--fill-color);\n",
              "    }\n",
              "    40% {\n",
              "      border-color: transparent;\n",
              "      border-right-color: var(--fill-color);\n",
              "      border-top-color: var(--fill-color);\n",
              "    }\n",
              "    60% {\n",
              "      border-color: transparent;\n",
              "      border-right-color: var(--fill-color);\n",
              "    }\n",
              "    80% {\n",
              "      border-color: transparent;\n",
              "      border-right-color: var(--fill-color);\n",
              "      border-bottom-color: var(--fill-color);\n",
              "    }\n",
              "    90% {\n",
              "      border-color: transparent;\n",
              "      border-bottom-color: var(--fill-color);\n",
              "    }\n",
              "  }\n",
              "</style>\n",
              "\n",
              "      <script>\n",
              "        async function quickchart(key) {\n",
              "          const quickchartButtonEl =\n",
              "            document.querySelector('#' + key + ' button');\n",
              "          quickchartButtonEl.disabled = true;  // To prevent multiple clicks.\n",
              "          quickchartButtonEl.classList.add('colab-df-spinner');\n",
              "          try {\n",
              "            const charts = await google.colab.kernel.invokeFunction(\n",
              "                'suggestCharts', [key], {});\n",
              "          } catch (error) {\n",
              "            console.error('Error during call to suggestCharts:', error);\n",
              "          }\n",
              "          quickchartButtonEl.classList.remove('colab-df-spinner');\n",
              "          quickchartButtonEl.classList.add('colab-df-quickchart-complete');\n",
              "        }\n",
              "        (() => {\n",
              "          let quickchartButtonEl =\n",
              "            document.querySelector('#df-bf7936f2-8185-40b5-aa86-1a72d1dc2161 button');\n",
              "          quickchartButtonEl.style.display =\n",
              "            google.colab.kernel.accessAllowed ? 'block' : 'none';\n",
              "        })();\n",
              "      </script>\n",
              "    </div>\n",
              "\n",
              "    </div>\n",
              "  </div>\n"
            ],
            "application/vnd.google.colaboratory.intrinsic+json": {
              "type": "dataframe",
              "variable_name": "df",
              "summary": "{\n  \"name\": \"df\",\n  \"rows\": 918,\n  \"fields\": [\n    {\n      \"column\": \"Age\",\n      \"properties\": {\n        \"dtype\": \"number\",\n        \"std\": 9,\n        \"min\": 28,\n        \"max\": 77,\n        \"num_unique_values\": 50,\n        \"samples\": [\n          44,\n          68,\n          66\n        ],\n        \"semantic_type\": \"\",\n        \"description\": \"\"\n      }\n    },\n    {\n      \"column\": \"Sex\",\n      \"properties\": {\n        \"dtype\": \"category\",\n        \"num_unique_values\": 2,\n        \"samples\": [\n          \"F\",\n          \"M\"\n        ],\n        \"semantic_type\": \"\",\n        \"description\": \"\"\n      }\n    },\n    {\n      \"column\": \"ChestPainType\",\n      \"properties\": {\n        \"dtype\": \"category\",\n        \"num_unique_values\": 4,\n        \"samples\": [\n          \"NAP\",\n          \"TA\"\n        ],\n        \"semantic_type\": \"\",\n        \"description\": \"\"\n      }\n    },\n    {\n      \"column\": \"RestingBP\",\n      \"properties\": {\n        \"dtype\": \"number\",\n        \"std\": 18,\n        \"min\": 0,\n        \"max\": 200,\n        \"num_unique_values\": 67,\n        \"samples\": [\n          165,\n          118\n        ],\n        \"semantic_type\": \"\",\n        \"description\": \"\"\n      }\n    },\n    {\n      \"column\": \"Cholesterol\",\n      \"properties\": {\n        \"dtype\": \"number\",\n        \"std\": 109,\n        \"min\": 0,\n        \"max\": 603,\n        \"num_unique_values\": 222,\n        \"samples\": [\n          305,\n          321\n        ],\n        \"semantic_type\": \"\",\n        \"description\": \"\"\n      }\n    },\n    {\n      \"column\": \"FastingBS\",\n      \"properties\": {\n        \"dtype\": \"number\",\n        \"std\": 0,\n        \"min\": 0,\n        \"max\": 1,\n        \"num_unique_values\": 2,\n        \"samples\": [\n          1,\n          0\n        ],\n        \"semantic_type\": \"\",\n        \"description\": \"\"\n      }\n    },\n    {\n      \"column\": \"RestingECG\",\n      \"properties\": {\n        \"dtype\": \"category\",\n        \"num_unique_values\": 3,\n        \"samples\": [\n          \"Normal\",\n          \"ST\"\n        ],\n        \"semantic_type\": \"\",\n        \"description\": \"\"\n      }\n    },\n    {\n      \"column\": \"MaxHR\",\n      \"properties\": {\n        \"dtype\": \"number\",\n        \"std\": 25,\n        \"min\": 60,\n        \"max\": 202,\n        \"num_unique_values\": 119,\n        \"samples\": [\n          132,\n          157\n        ],\n        \"semantic_type\": \"\",\n        \"description\": \"\"\n      }\n    },\n    {\n      \"column\": \"ExerciseAngina\",\n      \"properties\": {\n        \"dtype\": \"category\",\n        \"num_unique_values\": 2,\n        \"samples\": [\n          \"Y\",\n          \"N\"\n        ],\n        \"semantic_type\": \"\",\n        \"description\": \"\"\n      }\n    },\n    {\n      \"column\": \"Oldpeak\",\n      \"properties\": {\n        \"dtype\": \"number\",\n        \"std\": 1.0665701510493233,\n        \"min\": -2.6,\n        \"max\": 6.2,\n        \"num_unique_values\": 53,\n        \"samples\": [\n          1.3,\n          0.6\n        ],\n        \"semantic_type\": \"\",\n        \"description\": \"\"\n      }\n    },\n    {\n      \"column\": \"ST_Slope\",\n      \"properties\": {\n        \"dtype\": \"category\",\n        \"num_unique_values\": 3,\n        \"samples\": [\n          \"Up\",\n          \"Flat\"\n        ],\n        \"semantic_type\": \"\",\n        \"description\": \"\"\n      }\n    },\n    {\n      \"column\": \"HeartDisease\",\n      \"properties\": {\n        \"dtype\": \"number\",\n        \"std\": 0,\n        \"min\": 0,\n        \"max\": 1,\n        \"num_unique_values\": 2,\n        \"samples\": [\n          1,\n          0\n        ],\n        \"semantic_type\": \"\",\n        \"description\": \"\"\n      }\n    }\n  ]\n}"
            }
          },
          "metadata": {},
          "execution_count": 5
        }
      ]
    },
    {
      "cell_type": "code",
      "source": [
        "# one-hot encode categorical values\n",
        "df = pd.get_dummies(df, columns=['Sex', 'ChestPainType','RestingECG', 'ExerciseAngina', 'ST_Slope'])\n",
        "df.head()"
      ],
      "metadata": {
        "colab": {
          "base_uri": "https://localhost:8080/",
          "height": 236
        },
        "id": "60xwjOct-i6R",
        "outputId": "639497eb-e0af-45a1-9fc0-01d85dbd4871"
      },
      "execution_count": null,
      "outputs": [
        {
          "output_type": "execute_result",
          "data": {
            "text/plain": [
              "   Age  RestingBP  Cholesterol  FastingBS  MaxHR  Oldpeak  HeartDisease  \\\n",
              "0   40        140          289          0    172      0.0             0   \n",
              "1   49        160          180          0    156      1.0             1   \n",
              "2   37        130          283          0     98      0.0             0   \n",
              "3   48        138          214          0    108      1.5             1   \n",
              "4   54        150          195          0    122      0.0             0   \n",
              "\n",
              "   Sex_F  Sex_M  ChestPainType_ASY  ...  ChestPainType_NAP  ChestPainType_TA  \\\n",
              "0  False   True              False  ...              False             False   \n",
              "1   True  False              False  ...               True             False   \n",
              "2  False   True              False  ...              False             False   \n",
              "3   True  False               True  ...              False             False   \n",
              "4  False   True              False  ...               True             False   \n",
              "\n",
              "   RestingECG_LVH  RestingECG_Normal  RestingECG_ST  ExerciseAngina_N  \\\n",
              "0           False               True          False              True   \n",
              "1           False               True          False              True   \n",
              "2           False              False           True              True   \n",
              "3           False               True          False             False   \n",
              "4           False               True          False              True   \n",
              "\n",
              "   ExerciseAngina_Y  ST_Slope_Down  ST_Slope_Flat  ST_Slope_Up  \n",
              "0             False          False          False         True  \n",
              "1             False          False           True        False  \n",
              "2             False          False          False         True  \n",
              "3              True          False           True        False  \n",
              "4             False          False          False         True  \n",
              "\n",
              "[5 rows x 21 columns]"
            ],
            "text/html": [
              "\n",
              "  <div id=\"df-6caaaf7a-a114-4b1b-a3ae-f95a36c79e0e\" class=\"colab-df-container\">\n",
              "    <div>\n",
              "<style scoped>\n",
              "    .dataframe tbody tr th:only-of-type {\n",
              "        vertical-align: middle;\n",
              "    }\n",
              "\n",
              "    .dataframe tbody tr th {\n",
              "        vertical-align: top;\n",
              "    }\n",
              "\n",
              "    .dataframe thead th {\n",
              "        text-align: right;\n",
              "    }\n",
              "</style>\n",
              "<table border=\"1\" class=\"dataframe\">\n",
              "  <thead>\n",
              "    <tr style=\"text-align: right;\">\n",
              "      <th></th>\n",
              "      <th>Age</th>\n",
              "      <th>RestingBP</th>\n",
              "      <th>Cholesterol</th>\n",
              "      <th>FastingBS</th>\n",
              "      <th>MaxHR</th>\n",
              "      <th>Oldpeak</th>\n",
              "      <th>HeartDisease</th>\n",
              "      <th>Sex_F</th>\n",
              "      <th>Sex_M</th>\n",
              "      <th>ChestPainType_ASY</th>\n",
              "      <th>...</th>\n",
              "      <th>ChestPainType_NAP</th>\n",
              "      <th>ChestPainType_TA</th>\n",
              "      <th>RestingECG_LVH</th>\n",
              "      <th>RestingECG_Normal</th>\n",
              "      <th>RestingECG_ST</th>\n",
              "      <th>ExerciseAngina_N</th>\n",
              "      <th>ExerciseAngina_Y</th>\n",
              "      <th>ST_Slope_Down</th>\n",
              "      <th>ST_Slope_Flat</th>\n",
              "      <th>ST_Slope_Up</th>\n",
              "    </tr>\n",
              "  </thead>\n",
              "  <tbody>\n",
              "    <tr>\n",
              "      <th>0</th>\n",
              "      <td>40</td>\n",
              "      <td>140</td>\n",
              "      <td>289</td>\n",
              "      <td>0</td>\n",
              "      <td>172</td>\n",
              "      <td>0.0</td>\n",
              "      <td>0</td>\n",
              "      <td>False</td>\n",
              "      <td>True</td>\n",
              "      <td>False</td>\n",
              "      <td>...</td>\n",
              "      <td>False</td>\n",
              "      <td>False</td>\n",
              "      <td>False</td>\n",
              "      <td>True</td>\n",
              "      <td>False</td>\n",
              "      <td>True</td>\n",
              "      <td>False</td>\n",
              "      <td>False</td>\n",
              "      <td>False</td>\n",
              "      <td>True</td>\n",
              "    </tr>\n",
              "    <tr>\n",
              "      <th>1</th>\n",
              "      <td>49</td>\n",
              "      <td>160</td>\n",
              "      <td>180</td>\n",
              "      <td>0</td>\n",
              "      <td>156</td>\n",
              "      <td>1.0</td>\n",
              "      <td>1</td>\n",
              "      <td>True</td>\n",
              "      <td>False</td>\n",
              "      <td>False</td>\n",
              "      <td>...</td>\n",
              "      <td>True</td>\n",
              "      <td>False</td>\n",
              "      <td>False</td>\n",
              "      <td>True</td>\n",
              "      <td>False</td>\n",
              "      <td>True</td>\n",
              "      <td>False</td>\n",
              "      <td>False</td>\n",
              "      <td>True</td>\n",
              "      <td>False</td>\n",
              "    </tr>\n",
              "    <tr>\n",
              "      <th>2</th>\n",
              "      <td>37</td>\n",
              "      <td>130</td>\n",
              "      <td>283</td>\n",
              "      <td>0</td>\n",
              "      <td>98</td>\n",
              "      <td>0.0</td>\n",
              "      <td>0</td>\n",
              "      <td>False</td>\n",
              "      <td>True</td>\n",
              "      <td>False</td>\n",
              "      <td>...</td>\n",
              "      <td>False</td>\n",
              "      <td>False</td>\n",
              "      <td>False</td>\n",
              "      <td>False</td>\n",
              "      <td>True</td>\n",
              "      <td>True</td>\n",
              "      <td>False</td>\n",
              "      <td>False</td>\n",
              "      <td>False</td>\n",
              "      <td>True</td>\n",
              "    </tr>\n",
              "    <tr>\n",
              "      <th>3</th>\n",
              "      <td>48</td>\n",
              "      <td>138</td>\n",
              "      <td>214</td>\n",
              "      <td>0</td>\n",
              "      <td>108</td>\n",
              "      <td>1.5</td>\n",
              "      <td>1</td>\n",
              "      <td>True</td>\n",
              "      <td>False</td>\n",
              "      <td>True</td>\n",
              "      <td>...</td>\n",
              "      <td>False</td>\n",
              "      <td>False</td>\n",
              "      <td>False</td>\n",
              "      <td>True</td>\n",
              "      <td>False</td>\n",
              "      <td>False</td>\n",
              "      <td>True</td>\n",
              "      <td>False</td>\n",
              "      <td>True</td>\n",
              "      <td>False</td>\n",
              "    </tr>\n",
              "    <tr>\n",
              "      <th>4</th>\n",
              "      <td>54</td>\n",
              "      <td>150</td>\n",
              "      <td>195</td>\n",
              "      <td>0</td>\n",
              "      <td>122</td>\n",
              "      <td>0.0</td>\n",
              "      <td>0</td>\n",
              "      <td>False</td>\n",
              "      <td>True</td>\n",
              "      <td>False</td>\n",
              "      <td>...</td>\n",
              "      <td>True</td>\n",
              "      <td>False</td>\n",
              "      <td>False</td>\n",
              "      <td>True</td>\n",
              "      <td>False</td>\n",
              "      <td>True</td>\n",
              "      <td>False</td>\n",
              "      <td>False</td>\n",
              "      <td>False</td>\n",
              "      <td>True</td>\n",
              "    </tr>\n",
              "  </tbody>\n",
              "</table>\n",
              "<p>5 rows × 21 columns</p>\n",
              "</div>\n",
              "    <div class=\"colab-df-buttons\">\n",
              "\n",
              "  <div class=\"colab-df-container\">\n",
              "    <button class=\"colab-df-convert\" onclick=\"convertToInteractive('df-6caaaf7a-a114-4b1b-a3ae-f95a36c79e0e')\"\n",
              "            title=\"Convert this dataframe to an interactive table.\"\n",
              "            style=\"display:none;\">\n",
              "\n",
              "  <svg xmlns=\"http://www.w3.org/2000/svg\" height=\"24px\" viewBox=\"0 -960 960 960\">\n",
              "    <path d=\"M120-120v-720h720v720H120Zm60-500h600v-160H180v160Zm220 220h160v-160H400v160Zm0 220h160v-160H400v160ZM180-400h160v-160H180v160Zm440 0h160v-160H620v160ZM180-180h160v-160H180v160Zm440 0h160v-160H620v160Z\"/>\n",
              "  </svg>\n",
              "    </button>\n",
              "\n",
              "  <style>\n",
              "    .colab-df-container {\n",
              "      display:flex;\n",
              "      gap: 12px;\n",
              "    }\n",
              "\n",
              "    .colab-df-convert {\n",
              "      background-color: #E8F0FE;\n",
              "      border: none;\n",
              "      border-radius: 50%;\n",
              "      cursor: pointer;\n",
              "      display: none;\n",
              "      fill: #1967D2;\n",
              "      height: 32px;\n",
              "      padding: 0 0 0 0;\n",
              "      width: 32px;\n",
              "    }\n",
              "\n",
              "    .colab-df-convert:hover {\n",
              "      background-color: #E2EBFA;\n",
              "      box-shadow: 0px 1px 2px rgba(60, 64, 67, 0.3), 0px 1px 3px 1px rgba(60, 64, 67, 0.15);\n",
              "      fill: #174EA6;\n",
              "    }\n",
              "\n",
              "    .colab-df-buttons div {\n",
              "      margin-bottom: 4px;\n",
              "    }\n",
              "\n",
              "    [theme=dark] .colab-df-convert {\n",
              "      background-color: #3B4455;\n",
              "      fill: #D2E3FC;\n",
              "    }\n",
              "\n",
              "    [theme=dark] .colab-df-convert:hover {\n",
              "      background-color: #434B5C;\n",
              "      box-shadow: 0px 1px 3px 1px rgba(0, 0, 0, 0.15);\n",
              "      filter: drop-shadow(0px 1px 2px rgba(0, 0, 0, 0.3));\n",
              "      fill: #FFFFFF;\n",
              "    }\n",
              "  </style>\n",
              "\n",
              "    <script>\n",
              "      const buttonEl =\n",
              "        document.querySelector('#df-6caaaf7a-a114-4b1b-a3ae-f95a36c79e0e button.colab-df-convert');\n",
              "      buttonEl.style.display =\n",
              "        google.colab.kernel.accessAllowed ? 'block' : 'none';\n",
              "\n",
              "      async function convertToInteractive(key) {\n",
              "        const element = document.querySelector('#df-6caaaf7a-a114-4b1b-a3ae-f95a36c79e0e');\n",
              "        const dataTable =\n",
              "          await google.colab.kernel.invokeFunction('convertToInteractive',\n",
              "                                                    [key], {});\n",
              "        if (!dataTable) return;\n",
              "\n",
              "        const docLinkHtml = 'Like what you see? Visit the ' +\n",
              "          '<a target=\"_blank\" href=https://colab.research.google.com/notebooks/data_table.ipynb>data table notebook</a>'\n",
              "          + ' to learn more about interactive tables.';\n",
              "        element.innerHTML = '';\n",
              "        dataTable['output_type'] = 'display_data';\n",
              "        await google.colab.output.renderOutput(dataTable, element);\n",
              "        const docLink = document.createElement('div');\n",
              "        docLink.innerHTML = docLinkHtml;\n",
              "        element.appendChild(docLink);\n",
              "      }\n",
              "    </script>\n",
              "  </div>\n",
              "\n",
              "\n",
              "    <div id=\"df-817987b2-ae48-4e40-8ca6-f054d09f275b\">\n",
              "      <button class=\"colab-df-quickchart\" onclick=\"quickchart('df-817987b2-ae48-4e40-8ca6-f054d09f275b')\"\n",
              "                title=\"Suggest charts\"\n",
              "                style=\"display:none;\">\n",
              "\n",
              "<svg xmlns=\"http://www.w3.org/2000/svg\" height=\"24px\"viewBox=\"0 0 24 24\"\n",
              "     width=\"24px\">\n",
              "    <g>\n",
              "        <path d=\"M19 3H5c-1.1 0-2 .9-2 2v14c0 1.1.9 2 2 2h14c1.1 0 2-.9 2-2V5c0-1.1-.9-2-2-2zM9 17H7v-7h2v7zm4 0h-2V7h2v10zm4 0h-2v-4h2v4z\"/>\n",
              "    </g>\n",
              "</svg>\n",
              "      </button>\n",
              "\n",
              "<style>\n",
              "  .colab-df-quickchart {\n",
              "      --bg-color: #E8F0FE;\n",
              "      --fill-color: #1967D2;\n",
              "      --hover-bg-color: #E2EBFA;\n",
              "      --hover-fill-color: #174EA6;\n",
              "      --disabled-fill-color: #AAA;\n",
              "      --disabled-bg-color: #DDD;\n",
              "  }\n",
              "\n",
              "  [theme=dark] .colab-df-quickchart {\n",
              "      --bg-color: #3B4455;\n",
              "      --fill-color: #D2E3FC;\n",
              "      --hover-bg-color: #434B5C;\n",
              "      --hover-fill-color: #FFFFFF;\n",
              "      --disabled-bg-color: #3B4455;\n",
              "      --disabled-fill-color: #666;\n",
              "  }\n",
              "\n",
              "  .colab-df-quickchart {\n",
              "    background-color: var(--bg-color);\n",
              "    border: none;\n",
              "    border-radius: 50%;\n",
              "    cursor: pointer;\n",
              "    display: none;\n",
              "    fill: var(--fill-color);\n",
              "    height: 32px;\n",
              "    padding: 0;\n",
              "    width: 32px;\n",
              "  }\n",
              "\n",
              "  .colab-df-quickchart:hover {\n",
              "    background-color: var(--hover-bg-color);\n",
              "    box-shadow: 0 1px 2px rgba(60, 64, 67, 0.3), 0 1px 3px 1px rgba(60, 64, 67, 0.15);\n",
              "    fill: var(--button-hover-fill-color);\n",
              "  }\n",
              "\n",
              "  .colab-df-quickchart-complete:disabled,\n",
              "  .colab-df-quickchart-complete:disabled:hover {\n",
              "    background-color: var(--disabled-bg-color);\n",
              "    fill: var(--disabled-fill-color);\n",
              "    box-shadow: none;\n",
              "  }\n",
              "\n",
              "  .colab-df-spinner {\n",
              "    border: 2px solid var(--fill-color);\n",
              "    border-color: transparent;\n",
              "    border-bottom-color: var(--fill-color);\n",
              "    animation:\n",
              "      spin 1s steps(1) infinite;\n",
              "  }\n",
              "\n",
              "  @keyframes spin {\n",
              "    0% {\n",
              "      border-color: transparent;\n",
              "      border-bottom-color: var(--fill-color);\n",
              "      border-left-color: var(--fill-color);\n",
              "    }\n",
              "    20% {\n",
              "      border-color: transparent;\n",
              "      border-left-color: var(--fill-color);\n",
              "      border-top-color: var(--fill-color);\n",
              "    }\n",
              "    30% {\n",
              "      border-color: transparent;\n",
              "      border-left-color: var(--fill-color);\n",
              "      border-top-color: var(--fill-color);\n",
              "      border-right-color: var(--fill-color);\n",
              "    }\n",
              "    40% {\n",
              "      border-color: transparent;\n",
              "      border-right-color: var(--fill-color);\n",
              "      border-top-color: var(--fill-color);\n",
              "    }\n",
              "    60% {\n",
              "      border-color: transparent;\n",
              "      border-right-color: var(--fill-color);\n",
              "    }\n",
              "    80% {\n",
              "      border-color: transparent;\n",
              "      border-right-color: var(--fill-color);\n",
              "      border-bottom-color: var(--fill-color);\n",
              "    }\n",
              "    90% {\n",
              "      border-color: transparent;\n",
              "      border-bottom-color: var(--fill-color);\n",
              "    }\n",
              "  }\n",
              "</style>\n",
              "\n",
              "      <script>\n",
              "        async function quickchart(key) {\n",
              "          const quickchartButtonEl =\n",
              "            document.querySelector('#' + key + ' button');\n",
              "          quickchartButtonEl.disabled = true;  // To prevent multiple clicks.\n",
              "          quickchartButtonEl.classList.add('colab-df-spinner');\n",
              "          try {\n",
              "            const charts = await google.colab.kernel.invokeFunction(\n",
              "                'suggestCharts', [key], {});\n",
              "          } catch (error) {\n",
              "            console.error('Error during call to suggestCharts:', error);\n",
              "          }\n",
              "          quickchartButtonEl.classList.remove('colab-df-spinner');\n",
              "          quickchartButtonEl.classList.add('colab-df-quickchart-complete');\n",
              "        }\n",
              "        (() => {\n",
              "          let quickchartButtonEl =\n",
              "            document.querySelector('#df-817987b2-ae48-4e40-8ca6-f054d09f275b button');\n",
              "          quickchartButtonEl.style.display =\n",
              "            google.colab.kernel.accessAllowed ? 'block' : 'none';\n",
              "        })();\n",
              "      </script>\n",
              "    </div>\n",
              "\n",
              "    </div>\n",
              "  </div>\n"
            ],
            "application/vnd.google.colaboratory.intrinsic+json": {
              "type": "dataframe",
              "variable_name": "df"
            }
          },
          "metadata": {},
          "execution_count": 6
        }
      ]
    },
    {
      "cell_type": "code",
      "source": [
        "# separate data into labels and features\n",
        "import numpy as np\n",
        "df = df.drop(columns=['Sex_F', 'ExerciseAngina_N']).astype(float)\n",
        "X = np.asarray(df.drop(columns=['HeartDisease']))\n",
        "Y = np.asarray(df[['HeartDisease']]).reshape(-1,)\n"
      ],
      "metadata": {
        "id": "tn5Gdxo_-9aZ"
      },
      "execution_count": null,
      "outputs": []
    },
    {
      "cell_type": "code",
      "source": [
        "# standardize data\n",
        "from sklearn.preprocessing import StandardScaler\n",
        "scaler = StandardScaler()\n",
        "X = scaler.fit_transform(X)"
      ],
      "metadata": {
        "id": "8QStI7pSMR5r"
      },
      "execution_count": null,
      "outputs": []
    },
    {
      "cell_type": "code",
      "source": [
        "#split data for training and testing\n",
        "from sklearn.model_selection import train_test_split\n",
        "x_train, x_test, y_train, y_test = train_test_split(X, Y, test_size=.2, random_state=42)\n",
        "\n",
        "x_train.shape, y_train.shape, x_test.shape, y_test.shape"
      ],
      "metadata": {
        "colab": {
          "base_uri": "https://localhost:8080/"
        },
        "id": "FkKm2y2g_CEM",
        "outputId": "4498ede9-a7e8-43aa-aea3-04c1cdf26324"
      },
      "execution_count": null,
      "outputs": [
        {
          "output_type": "execute_result",
          "data": {
            "text/plain": [
              "((734, 18), (734,), (184, 18), (184,))"
            ]
          },
          "metadata": {},
          "execution_count": 9
        }
      ]
    },
    {
      "cell_type": "markdown",
      "source": [
        "#Model Selection/Analysis"
      ],
      "metadata": {
        "id": "fxrh6svVdCTe"
      }
    },
    {
      "cell_type": "markdown",
      "source": [
        "**Linear Models**"
      ],
      "metadata": {
        "id": "zGq7SRAXntcb"
      }
    },
    {
      "cell_type": "code",
      "source": [
        "# examine cross val scores for some models\n",
        "from sklearn.model_selection import cross_val_score, KFold\n",
        "from sklearn.linear_model import LogisticRegression, SGDClassifier\n",
        "kf = KFold(n_splits=5, shuffle=True, random_state=42)\n",
        "\n",
        "sgd_cv = cross_val_score(SGDClassifier(random_state=42), X, Y, cv=kf)\n",
        "lr_cv = cross_val_score(LogisticRegression(random_state=42), X, Y, cv=kf)\n",
        "\n",
        "print('Linear Model CV Scores (Baseline)')\n",
        "print('-'*40)\n",
        "print(f'SGD:                 {sgd_cv}  Mean: {np.mean(sgd_cv)}')\n",
        "print(f'Logistic Regression: {lr_cv}  Mean: {np.mean(lr_cv)}')\n"
      ],
      "metadata": {
        "colab": {
          "base_uri": "https://localhost:8080/"
        },
        "id": "TEd9Ze5gAPel",
        "outputId": "9712103f-2f3d-4ca7-c5d2-28c9da615a3f"
      },
      "execution_count": null,
      "outputs": [
        {
          "output_type": "stream",
          "name": "stdout",
          "text": [
            "Linear Model CV Scores (Baseline)\n",
            "----------------------------------------\n",
            "SGD:                 [0.78804348 0.83695652 0.86956522 0.80874317 0.80874317]  Mean: 0.8224103112378238\n",
            "Logistic Regression: [0.85326087 0.86956522 0.875      0.81420765 0.86338798]  Mean: 0.8550843430743644\n"
          ]
        }
      ]
    },
    {
      "cell_type": "markdown",
      "source": [
        "Analysis of linear models shows that the features can explain the variance of the labels but so far, Regression performance is mediocre"
      ],
      "metadata": {
        "id": "FYkgWeWRdZ6Y"
      }
    },
    {
      "cell_type": "markdown",
      "source": [
        "**Decision Tree Based Models**"
      ],
      "metadata": {
        "id": "RvzIp-fIn09Y"
      }
    },
    {
      "cell_type": "code",
      "source": [
        "# lets see if tree based algorithms are any better\n",
        "from sklearn.tree import DecisionTreeClassifier\n",
        "from sklearn.ensemble import AdaBoostClassifier, GradientBoostingClassifier, RandomForestClassifier\n",
        "\n",
        "dt_cv = cross_val_score(DecisionTreeClassifier(random_state=42), X, Y, cv=kf)\n",
        "ada_cv = cross_val_score(AdaBoostClassifier(random_state=42), X, Y, cv=kf)\n",
        "gb_cv = cross_val_score(GradientBoostingClassifier(random_state=42), X, Y, cv=kf)\n",
        "rf_cv = cross_val_score(RandomForestClassifier(random_state=42), X, Y, cv=kf)\n",
        "\n",
        "print('Decision Tree Model CV Scores')\n",
        "print('-'*40)\n",
        "print(f'Decision Tree:  {dt_cv} Mean: {np.mean(dt_cv)}')\n",
        "print(f'Ada Boost:      {ada_cv} Mean: {np.mean(ada_cv)}')\n",
        "print(f'Gradient Boost: {gb_cv} Mean: {np.mean(gb_cv)}')\n",
        "print(f'Random Forest:  {rf_cv} Mean: {np.mean(rf_cv)}')"
      ],
      "metadata": {
        "colab": {
          "base_uri": "https://localhost:8080/"
        },
        "id": "0IgzboGTT3Ep",
        "outputId": "81eb7e17-4688-4815-f6b2-db861edd7496"
      },
      "execution_count": null,
      "outputs": [
        {
          "output_type": "stream",
          "name": "stdout",
          "text": [
            "Decision Tree Model CV Scores\n",
            "----------------------------------------\n",
            "Decision Tree:  [0.81521739 0.80434783 0.81521739 0.77595628 0.78142077] Mean: 0.7984319315751959\n",
            "Ada Boost:      [0.86956522 0.86956522 0.875      0.81420765 0.8579235 ] Mean: 0.8572523164647186\n",
            "Gradient Boost: [0.88043478 0.88043478 0.90217391 0.83606557 0.87431694] Mean: 0.8746851983844144\n",
            "Random Forest:  [0.88043478 0.875      0.89130435 0.84153005 0.8579235 ] Mean: 0.8692385364694702\n"
          ]
        }
      ]
    },
    {
      "cell_type": "markdown",
      "source": [
        "Analysis of Decision Tree based models shows better performance than regression, with Random Forests and Gradient Boosting performing the best"
      ],
      "metadata": {
        "id": "rOBhqSp5dyiq"
      }
    },
    {
      "cell_type": "markdown",
      "source": [
        "**K Nearest Neighbors**"
      ],
      "metadata": {
        "id": "LcNXFrUjom80"
      }
    },
    {
      "cell_type": "code",
      "source": [
        "# KNN model\n",
        "from sklearn.neighbors import KNeighborsClassifier\n",
        "knn_cv = cross_val_score(KNeighborsClassifier(), X, Y, cv=kf)\n",
        "\n",
        "print('KNN CV Scores')\n",
        "print('-'*40)\n",
        "for i in range(1, 11):\n",
        "  knn_cv = cross_val_score(KNeighborsClassifier(n_neighbors=i), X, Y, cv=kf)\n",
        "  print(f'{i} Neighbors: {knn_cv} Mean: {np.mean(knn_cv)}')"
      ],
      "metadata": {
        "colab": {
          "base_uri": "https://localhost:8080/"
        },
        "id": "1dVAg91IId_g",
        "outputId": "356154b4-4c76-4a2d-e091-25cb2e22df86"
      },
      "execution_count": null,
      "outputs": [
        {
          "output_type": "stream",
          "name": "stdout",
          "text": [
            "KNN CV Scores\n",
            "----------------------------------------\n",
            "1 Neighbors: [0.79891304 0.85869565 0.85869565 0.79781421 0.80874317] Mean: 0.8245723449750535\n",
            "2 Neighbors: [0.73913043 0.79891304 0.84782609 0.76502732 0.82513661] Mean: 0.7952066999287242\n",
            "3 Neighbors: [0.83152174 0.86413043 0.89130435 0.79234973 0.86885246] Mean: 0.849631741506296\n",
            "4 Neighbors: [0.79347826 0.83152174 0.875      0.79781421 0.87431694] Mean: 0.8344262295081967\n",
            "5 Neighbors: [0.85326087 0.86956522 0.88586957 0.79781421 0.8579235 ] Mean: 0.8528866714183891\n",
            "6 Neighbors: [0.8423913  0.84782609 0.88043478 0.78688525 0.87431694] Mean: 0.8463708719410785\n",
            "7 Neighbors: [0.88043478 0.875      0.89130435 0.83060109 0.85245902] Mean: 0.86595984794488\n",
            "8 Neighbors: [0.86956522 0.85869565 0.875      0.81967213 0.8579235 ] Mean: 0.8561712995961036\n",
            "9 Neighbors: [0.88586957 0.86956522 0.875      0.81967213 0.8579235 ] Mean: 0.8616060822047993\n",
            "10 Neighbors: [0.86413043 0.84782609 0.88586957 0.81420765 0.8579235 ] Mean: 0.8539914468995011\n"
          ]
        }
      ]
    },
    {
      "cell_type": "markdown",
      "source": [
        "KNN model produces simiar results to random forest at k=9 but is most likely sub optimal due to its lack of ability to be tuned"
      ],
      "metadata": {
        "id": "gIogcE1Sd-CU"
      }
    },
    {
      "cell_type": "markdown",
      "source": [
        "**SVC**"
      ],
      "metadata": {
        "id": "WT9n7P8bp7ms"
      }
    },
    {
      "cell_type": "code",
      "source": [
        "from sklearn.svm import SVC\n",
        "from sklearn.model_selection import GridSearchCV\n",
        "# Grid Search for SVC hyper-parameters\n",
        "# this will take a minute to run\n",
        "parameters = {'kernel':('linear', 'rbf', 'poly', 'sigmoid'), 'C':list(range(1,16,2)), 'gamma':list(range(1,16,2))}\n",
        "grid = GridSearchCV(estimator=SVC(random_state=42), param_grid=parameters).fit(x_train, y_train)\n",
        "print(f'Best Parameters: {grid.best_params_}')\n",
        "\n",
        "svc_cv = cross_val_score(grid.best_estimator_, X, Y, cv=kf)\n",
        "print(f'SVC CV Score: {svc_cv} Mean: {np.mean(svc_cv)}')"
      ],
      "metadata": {
        "id": "aTLyGcW0N1gd",
        "colab": {
          "base_uri": "https://localhost:8080/"
        },
        "outputId": "5dbec512-4a2b-48e2-c91d-09c143e6c4d1"
      },
      "execution_count": null,
      "outputs": [
        {
          "output_type": "stream",
          "name": "stdout",
          "text": [
            "Best Parameters: {'C': 1, 'gamma': 1, 'kernel': 'linear'}\n",
            "SVC CV Score: [0.85326087 0.89130435 0.88043478 0.81967213 0.8579235 ] Mean: 0.8605191256830601\n"
          ]
        }
      ]
    },
    {
      "cell_type": "markdown",
      "source": [
        "SVC's dont seem to outperform decision trees either"
      ],
      "metadata": {
        "id": "NSE4xF7ieKYv"
      }
    },
    {
      "cell_type": "markdown",
      "source": [
        "**Nueral Network** <br>\n",
        "(We will evaulate our models with recall and precision from now on due to the nature of the problem:)<br>\n",
        "Recall = % of true positives identified<br>\n",
        "Precision = % of identified positives that are true positives"
      ],
      "metadata": {
        "id": "Hnbm7OkOrVoQ"
      }
    },
    {
      "cell_type": "code",
      "source": [
        "# Nueral Network implementation\n",
        "from tensorflow.keras import layers, Model, Input\n",
        "import tensorflow as tf\n",
        "\n",
        "tf.random.set_seed(42)\n",
        "\n",
        "inputs = Input(shape=(x_train.shape[1],))\n",
        "x = layers.Dense(units=128, activation='relu')(inputs)\n",
        "x = layers.Dense(units=64, activation='relu')(x)\n",
        "x = layers.Dense(units=32, activation='relu')(x)\n",
        "x = layers.Dense(units=16, activation='relu')(x)\n",
        "outputs = layers.Dense(units=1, activation='sigmoid')(x)\n",
        "\n",
        "NN_model = Model(inputs=inputs, outputs=outputs)\n",
        "NN_model.compile(optimizer=tf.keras.optimizers.Adam(learning_rate=0.001), loss='binary_crossentropy', metrics=['recall', 'precision'])"
      ],
      "metadata": {
        "id": "tYOeb8bkAevw"
      },
      "execution_count": null,
      "outputs": []
    },
    {
      "cell_type": "code",
      "source": [
        "# lets train the model\n",
        "tf.random.set_seed(42)\n",
        "history = NN_model.fit(x_train, y_train, epochs = 50, batch_size=256, validation_data=(x_test, y_test), )\n",
        "NN_eval = NN_model.evaluate(x_test, y_test)\n",
        "print(f'Test Recall:    {NN_eval[1]}')\n",
        "print(f'Test Precision: {NN_eval[2]}')\n",
        "NN_eval"
      ],
      "metadata": {
        "colab": {
          "base_uri": "https://localhost:8080/"
        },
        "id": "0uh-12C9DPGm",
        "outputId": "20266467-97a9-40f7-b71b-d7f5fb611515"
      },
      "execution_count": null,
      "outputs": [
        {
          "output_type": "stream",
          "name": "stdout",
          "text": [
            "Epoch 1/50\n",
            "\u001b[1m3/3\u001b[0m \u001b[32m━━━━━━━━━━━━━━━━━━━━\u001b[0m\u001b[37m\u001b[0m \u001b[1m4s\u001b[0m 765ms/step - loss: 0.6750 - precision: 0.6047 - recall: 0.8778 - val_loss: 0.6227 - val_precision: 0.7197 - val_recall: 0.8879\n",
            "Epoch 2/50\n",
            "\u001b[1m3/3\u001b[0m \u001b[32m━━━━━━━━━━━━━━━━━━━━\u001b[0m\u001b[37m\u001b[0m \u001b[1m0s\u001b[0m 29ms/step - loss: 0.6024 - precision: 0.7552 - recall: 0.9288 - val_loss: 0.5681 - val_precision: 0.8304 - val_recall: 0.8692\n",
            "Epoch 3/50\n",
            "\u001b[1m3/3\u001b[0m \u001b[32m━━━━━━━━━━━━━━━━━━━━\u001b[0m\u001b[37m\u001b[0m \u001b[1m0s\u001b[0m 28ms/step - loss: 0.5427 - precision: 0.8213 - recall: 0.9150 - val_loss: 0.5148 - val_precision: 0.9010 - val_recall: 0.8505\n",
            "Epoch 4/50\n",
            "\u001b[1m3/3\u001b[0m \u001b[32m━━━━━━━━━━━━━━━━━━━━\u001b[0m\u001b[37m\u001b[0m \u001b[1m0s\u001b[0m 30ms/step - loss: 0.4874 - precision: 0.8527 - recall: 0.9000 - val_loss: 0.4647 - val_precision: 0.9100 - val_recall: 0.8505\n",
            "Epoch 5/50\n",
            "\u001b[1m3/3\u001b[0m \u001b[32m━━━━━━━━━━━━━━━━━━━━\u001b[0m\u001b[37m\u001b[0m \u001b[1m0s\u001b[0m 29ms/step - loss: 0.4371 - precision: 0.8553 - recall: 0.8962 - val_loss: 0.4197 - val_precision: 0.9175 - val_recall: 0.8318\n",
            "Epoch 6/50\n",
            "\u001b[1m3/3\u001b[0m \u001b[32m━━━━━━━━━━━━━━━━━━━━\u001b[0m\u001b[37m\u001b[0m \u001b[1m0s\u001b[0m 29ms/step - loss: 0.3941 - precision: 0.8622 - recall: 0.8966 - val_loss: 0.3834 - val_precision: 0.9278 - val_recall: 0.8411\n",
            "Epoch 7/50\n",
            "\u001b[1m3/3\u001b[0m \u001b[32m━━━━━━━━━━━━━━━━━━━━\u001b[0m\u001b[37m\u001b[0m \u001b[1m0s\u001b[0m 28ms/step - loss: 0.3614 - precision: 0.8652 - recall: 0.8950 - val_loss: 0.3578 - val_precision: 0.9278 - val_recall: 0.8411\n",
            "Epoch 8/50\n",
            "\u001b[1m3/3\u001b[0m \u001b[32m━━━━━━━━━━━━━━━━━━━━\u001b[0m\u001b[37m\u001b[0m \u001b[1m0s\u001b[0m 28ms/step - loss: 0.3402 - precision: 0.8712 - recall: 0.8950 - val_loss: 0.3425 - val_precision: 0.9278 - val_recall: 0.8411\n",
            "Epoch 9/50\n",
            "\u001b[1m3/3\u001b[0m \u001b[32m━━━━━━━━━━━━━━━━━━━━\u001b[0m\u001b[37m\u001b[0m \u001b[1m0s\u001b[0m 28ms/step - loss: 0.3285 - precision: 0.8722 - recall: 0.8950 - val_loss: 0.3355 - val_precision: 0.9278 - val_recall: 0.8411\n",
            "Epoch 10/50\n",
            "\u001b[1m3/3\u001b[0m \u001b[32m━━━━━━━━━━━━━━━━━━━━\u001b[0m\u001b[37m\u001b[0m \u001b[1m0s\u001b[0m 28ms/step - loss: 0.3221 - precision: 0.8809 - recall: 0.8929 - val_loss: 0.3320 - val_precision: 0.9192 - val_recall: 0.8505\n",
            "Epoch 11/50\n",
            "\u001b[1m3/3\u001b[0m \u001b[32m━━━━━━━━━━━━━━━━━━━━\u001b[0m\u001b[37m\u001b[0m \u001b[1m0s\u001b[0m 28ms/step - loss: 0.3176 - precision: 0.8935 - recall: 0.8966 - val_loss: 0.3304 - val_precision: 0.9200 - val_recall: 0.8598\n",
            "Epoch 12/50\n",
            "\u001b[1m3/3\u001b[0m \u001b[32m━━━━━━━━━━━━━━━━━━━━\u001b[0m\u001b[37m\u001b[0m \u001b[1m0s\u001b[0m 28ms/step - loss: 0.3131 - precision: 0.8897 - recall: 0.8928 - val_loss: 0.3293 - val_precision: 0.9091 - val_recall: 0.8411\n",
            "Epoch 13/50\n",
            "\u001b[1m3/3\u001b[0m \u001b[32m━━━━━━━━━━━━━━━━━━━━\u001b[0m\u001b[37m\u001b[0m \u001b[1m0s\u001b[0m 28ms/step - loss: 0.3077 - precision: 0.8920 - recall: 0.8966 - val_loss: 0.3286 - val_precision: 0.9118 - val_recall: 0.8692\n",
            "Epoch 14/50\n",
            "\u001b[1m3/3\u001b[0m \u001b[32m━━━━━━━━━━━━━━━━━━━━\u001b[0m\u001b[37m\u001b[0m \u001b[1m0s\u001b[0m 28ms/step - loss: 0.3018 - precision: 0.8884 - recall: 0.9016 - val_loss: 0.3277 - val_precision: 0.9029 - val_recall: 0.8692\n",
            "Epoch 15/50\n",
            "\u001b[1m3/3\u001b[0m \u001b[32m━━━━━━━━━━━━━━━━━━━━\u001b[0m\u001b[37m\u001b[0m \u001b[1m0s\u001b[0m 29ms/step - loss: 0.2960 - precision: 0.8901 - recall: 0.9004 - val_loss: 0.3267 - val_precision: 0.9029 - val_recall: 0.8692\n",
            "Epoch 16/50\n",
            "\u001b[1m3/3\u001b[0m \u001b[32m━━━━━━━━━━━━━━━━━━━━\u001b[0m\u001b[37m\u001b[0m \u001b[1m0s\u001b[0m 34ms/step - loss: 0.2905 - precision: 0.8897 - recall: 0.9037 - val_loss: 0.3256 - val_precision: 0.9126 - val_recall: 0.8785\n",
            "Epoch 17/50\n",
            "\u001b[1m3/3\u001b[0m \u001b[32m━━━━━━━━━━━━━━━━━━━━\u001b[0m\u001b[37m\u001b[0m \u001b[1m0s\u001b[0m 29ms/step - loss: 0.2855 - precision: 0.8903 - recall: 0.9087 - val_loss: 0.3241 - val_precision: 0.9126 - val_recall: 0.8785\n",
            "Epoch 18/50\n",
            "\u001b[1m3/3\u001b[0m \u001b[32m━━━━━━━━━━━━━━━━━━━━\u001b[0m\u001b[37m\u001b[0m \u001b[1m0s\u001b[0m 43ms/step - loss: 0.2808 - precision: 0.8892 - recall: 0.9087 - val_loss: 0.3225 - val_precision: 0.9126 - val_recall: 0.8785\n",
            "Epoch 19/50\n",
            "\u001b[1m3/3\u001b[0m \u001b[32m━━━━━━━━━━━━━━━━━━━━\u001b[0m\u001b[37m\u001b[0m \u001b[1m0s\u001b[0m 28ms/step - loss: 0.2763 - precision: 0.8903 - recall: 0.9087 - val_loss: 0.3210 - val_precision: 0.9109 - val_recall: 0.8598\n",
            "Epoch 20/50\n",
            "\u001b[1m3/3\u001b[0m \u001b[32m━━━━━━━━━━━━━━━━━━━━\u001b[0m\u001b[37m\u001b[0m \u001b[1m0s\u001b[0m 28ms/step - loss: 0.2721 - precision: 0.8979 - recall: 0.9079 - val_loss: 0.3189 - val_precision: 0.9109 - val_recall: 0.8598\n",
            "Epoch 21/50\n",
            "\u001b[1m3/3\u001b[0m \u001b[32m━━━━━━━━━━━━━━━━━━━━\u001b[0m\u001b[37m\u001b[0m \u001b[1m0s\u001b[0m 30ms/step - loss: 0.2679 - precision: 0.8990 - recall: 0.9079 - val_loss: 0.3168 - val_precision: 0.9109 - val_recall: 0.8598\n",
            "Epoch 22/50\n",
            "\u001b[1m3/3\u001b[0m \u001b[32m━━━━━━━━━━━━━━━━━━━━\u001b[0m\u001b[37m\u001b[0m \u001b[1m0s\u001b[0m 28ms/step - loss: 0.2637 - precision: 0.9009 - recall: 0.9079 - val_loss: 0.3150 - val_precision: 0.9109 - val_recall: 0.8598\n",
            "Epoch 23/50\n",
            "\u001b[1m3/3\u001b[0m \u001b[32m━━━━━━━━━━━━━━━━━━━━\u001b[0m\u001b[37m\u001b[0m \u001b[1m0s\u001b[0m 28ms/step - loss: 0.2596 - precision: 0.9009 - recall: 0.9079 - val_loss: 0.3138 - val_precision: 0.9109 - val_recall: 0.8598\n",
            "Epoch 24/50\n",
            "\u001b[1m3/3\u001b[0m \u001b[32m━━━━━━━━━━━━━━━━━━━━\u001b[0m\u001b[37m\u001b[0m \u001b[1m0s\u001b[0m 28ms/step - loss: 0.2555 - precision: 0.9020 - recall: 0.9079 - val_loss: 0.3131 - val_precision: 0.9109 - val_recall: 0.8598\n",
            "Epoch 25/50\n",
            "\u001b[1m3/3\u001b[0m \u001b[32m━━━━━━━━━━━━━━━━━━━━\u001b[0m\u001b[37m\u001b[0m \u001b[1m0s\u001b[0m 29ms/step - loss: 0.2515 - precision: 0.9020 - recall: 0.9079 - val_loss: 0.3127 - val_precision: 0.9109 - val_recall: 0.8598\n",
            "Epoch 26/50\n",
            "\u001b[1m3/3\u001b[0m \u001b[32m━━━━━━━━━━━━━━━━━━━━\u001b[0m\u001b[37m\u001b[0m \u001b[1m0s\u001b[0m 28ms/step - loss: 0.2474 - precision: 0.9054 - recall: 0.9079 - val_loss: 0.3123 - val_precision: 0.9118 - val_recall: 0.8692\n",
            "Epoch 27/50\n",
            "\u001b[1m3/3\u001b[0m \u001b[32m━━━━━━━━━━━━━━━━━━━━\u001b[0m\u001b[37m\u001b[0m \u001b[1m0s\u001b[0m 28ms/step - loss: 0.2434 - precision: 0.9076 - recall: 0.9104 - val_loss: 0.3116 - val_precision: 0.9118 - val_recall: 0.8692\n",
            "Epoch 28/50\n",
            "\u001b[1m3/3\u001b[0m \u001b[32m━━━━━━━━━━━━━━━━━━━━\u001b[0m\u001b[37m\u001b[0m \u001b[1m0s\u001b[0m 34ms/step - loss: 0.2392 - precision: 0.9113 - recall: 0.9141 - val_loss: 0.3111 - val_precision: 0.9216 - val_recall: 0.8785\n",
            "Epoch 29/50\n",
            "\u001b[1m3/3\u001b[0m \u001b[32m━━━━━━━━━━━━━━━━━━━━\u001b[0m\u001b[37m\u001b[0m \u001b[1m0s\u001b[0m 30ms/step - loss: 0.2351 - precision: 0.9125 - recall: 0.9141 - val_loss: 0.3106 - val_precision: 0.9216 - val_recall: 0.8785\n",
            "Epoch 30/50\n",
            "\u001b[1m3/3\u001b[0m \u001b[32m━━━━━━━━━━━━━━━━━━━━\u001b[0m\u001b[37m\u001b[0m \u001b[1m0s\u001b[0m 28ms/step - loss: 0.2309 - precision: 0.9125 - recall: 0.9141 - val_loss: 0.3100 - val_precision: 0.9216 - val_recall: 0.8785\n",
            "Epoch 31/50\n",
            "\u001b[1m3/3\u001b[0m \u001b[32m━━━━━━━━━━━━━━━━━━━━\u001b[0m\u001b[37m\u001b[0m \u001b[1m0s\u001b[0m 28ms/step - loss: 0.2268 - precision: 0.9219 - recall: 0.9163 - val_loss: 0.3097 - val_precision: 0.9216 - val_recall: 0.8785\n",
            "Epoch 32/50\n",
            "\u001b[1m3/3\u001b[0m \u001b[32m━━━━━━━━━━━━━━━━━━━━\u001b[0m\u001b[37m\u001b[0m \u001b[1m0s\u001b[0m 30ms/step - loss: 0.2226 - precision: 0.9225 - recall: 0.9238 - val_loss: 0.3093 - val_precision: 0.9223 - val_recall: 0.8879\n",
            "Epoch 33/50\n",
            "\u001b[1m3/3\u001b[0m \u001b[32m━━━━━━━━━━━━━━━━━━━━\u001b[0m\u001b[37m\u001b[0m \u001b[1m0s\u001b[0m 29ms/step - loss: 0.2184 - precision: 0.9261 - recall: 0.9259 - val_loss: 0.3089 - val_precision: 0.9223 - val_recall: 0.8879\n",
            "Epoch 34/50\n",
            "\u001b[1m3/3\u001b[0m \u001b[32m━━━━━━━━━━━━━━━━━━━━\u001b[0m\u001b[37m\u001b[0m \u001b[1m0s\u001b[0m 29ms/step - loss: 0.2140 - precision: 0.9274 - recall: 0.9284 - val_loss: 0.3089 - val_precision: 0.9223 - val_recall: 0.8879\n",
            "Epoch 35/50\n",
            "\u001b[1m3/3\u001b[0m \u001b[32m━━━━━━━━━━━━━━━━━━━━\u001b[0m\u001b[37m\u001b[0m \u001b[1m0s\u001b[0m 28ms/step - loss: 0.2097 - precision: 0.9294 - recall: 0.9284 - val_loss: 0.3095 - val_precision: 0.9223 - val_recall: 0.8879\n",
            "Epoch 36/50\n",
            "\u001b[1m3/3\u001b[0m \u001b[32m━━━━━━━━━━━━━━━━━━━━\u001b[0m\u001b[37m\u001b[0m \u001b[1m0s\u001b[0m 29ms/step - loss: 0.2053 - precision: 0.9294 - recall: 0.9284 - val_loss: 0.3098 - val_precision: 0.9223 - val_recall: 0.8879\n",
            "Epoch 37/50\n",
            "\u001b[1m3/3\u001b[0m \u001b[32m━━━━━━━━━━━━━━━━━━━━\u001b[0m\u001b[37m\u001b[0m \u001b[1m0s\u001b[0m 28ms/step - loss: 0.2008 - precision: 0.9349 - recall: 0.9284 - val_loss: 0.3101 - val_precision: 0.9223 - val_recall: 0.8879\n",
            "Epoch 38/50\n",
            "\u001b[1m3/3\u001b[0m \u001b[32m━━━━━━━━━━━━━━━━━━━━\u001b[0m\u001b[37m\u001b[0m \u001b[1m0s\u001b[0m 46ms/step - loss: 0.1965 - precision: 0.9372 - recall: 0.9284 - val_loss: 0.3102 - val_precision: 0.9223 - val_recall: 0.8879\n",
            "Epoch 39/50\n",
            "\u001b[1m3/3\u001b[0m \u001b[32m━━━━━━━━━━━━━━━━━━━━\u001b[0m\u001b[37m\u001b[0m \u001b[1m0s\u001b[0m 49ms/step - loss: 0.1921 - precision: 0.9408 - recall: 0.9284 - val_loss: 0.3110 - val_precision: 0.9223 - val_recall: 0.8879\n",
            "Epoch 40/50\n",
            "\u001b[1m3/3\u001b[0m \u001b[32m━━━━━━━━━━━━━━━━━━━━\u001b[0m\u001b[37m\u001b[0m \u001b[1m0s\u001b[0m 63ms/step - loss: 0.1876 - precision: 0.9465 - recall: 0.9284 - val_loss: 0.3118 - val_precision: 0.9400 - val_recall: 0.8785\n",
            "Epoch 41/50\n",
            "\u001b[1m3/3\u001b[0m \u001b[32m━━━━━━━━━━━━━━━━━━━━\u001b[0m\u001b[37m\u001b[0m \u001b[1m0s\u001b[0m 59ms/step - loss: 0.1830 - precision: 0.9465 - recall: 0.9284 - val_loss: 0.3118 - val_precision: 0.9406 - val_recall: 0.8879\n",
            "Epoch 42/50\n",
            "\u001b[1m3/3\u001b[0m \u001b[32m━━━━━━━━━━━━━━━━━━━━\u001b[0m\u001b[37m\u001b[0m \u001b[1m0s\u001b[0m 57ms/step - loss: 0.1784 - precision: 0.9487 - recall: 0.9321 - val_loss: 0.3125 - val_precision: 0.9406 - val_recall: 0.8879\n",
            "Epoch 43/50\n",
            "\u001b[1m3/3\u001b[0m \u001b[32m━━━━━━━━━━━━━━━━━━━━\u001b[0m\u001b[37m\u001b[0m \u001b[1m0s\u001b[0m 89ms/step - loss: 0.1739 - precision: 0.9487 - recall: 0.9321 - val_loss: 0.3137 - val_precision: 0.9406 - val_recall: 0.8879\n",
            "Epoch 44/50\n",
            "\u001b[1m3/3\u001b[0m \u001b[32m━━━━━━━━━━━━━━━━━━━━\u001b[0m\u001b[37m\u001b[0m \u001b[1m0s\u001b[0m 85ms/step - loss: 0.1695 - precision: 0.9487 - recall: 0.9321 - val_loss: 0.3144 - val_precision: 0.9406 - val_recall: 0.8879\n",
            "Epoch 45/50\n",
            "\u001b[1m3/3\u001b[0m \u001b[32m━━━━━━━━━━━━━━━━━━━━\u001b[0m\u001b[37m\u001b[0m \u001b[1m0s\u001b[0m 68ms/step - loss: 0.1650 - precision: 0.9508 - recall: 0.9321 - val_loss: 0.3157 - val_precision: 0.9406 - val_recall: 0.8879\n",
            "Epoch 46/50\n",
            "\u001b[1m3/3\u001b[0m \u001b[32m━━━━━━━━━━━━━━━━━━━━\u001b[0m\u001b[37m\u001b[0m \u001b[1m0s\u001b[0m 72ms/step - loss: 0.1604 - precision: 0.9587 - recall: 0.9359 - val_loss: 0.3171 - val_precision: 0.9320 - val_recall: 0.8972\n",
            "Epoch 47/50\n",
            "\u001b[1m3/3\u001b[0m \u001b[32m━━━━━━━━━━━━━━━━━━━━\u001b[0m\u001b[37m\u001b[0m \u001b[1m0s\u001b[0m 59ms/step - loss: 0.1560 - precision: 0.9590 - recall: 0.9418 - val_loss: 0.3182 - val_precision: 0.9320 - val_recall: 0.8972\n",
            "Epoch 48/50\n",
            "\u001b[1m3/3\u001b[0m \u001b[32m━━━━━━━━━━━━━━━━━━━━\u001b[0m\u001b[37m\u001b[0m \u001b[1m0s\u001b[0m 73ms/step - loss: 0.1515 - precision: 0.9612 - recall: 0.9455 - val_loss: 0.3197 - val_precision: 0.9320 - val_recall: 0.8972\n",
            "Epoch 49/50\n",
            "\u001b[1m3/3\u001b[0m \u001b[32m━━━━━━━━━━━━━━━━━━━━\u001b[0m\u001b[37m\u001b[0m \u001b[1m0s\u001b[0m 86ms/step - loss: 0.1471 - precision: 0.9613 - recall: 0.9493 - val_loss: 0.3222 - val_precision: 0.9320 - val_recall: 0.8972\n",
            "Epoch 50/50\n",
            "\u001b[1m3/3\u001b[0m \u001b[32m━━━━━━━━━━━━━━━━━━━━\u001b[0m\u001b[37m\u001b[0m \u001b[1m0s\u001b[0m 80ms/step - loss: 0.1426 - precision: 0.9613 - recall: 0.9493 - val_loss: 0.3247 - val_precision: 0.9333 - val_recall: 0.9159\n",
            "\u001b[1m6/6\u001b[0m \u001b[32m━━━━━━━━━━━━━━━━━━━━\u001b[0m\u001b[37m\u001b[0m \u001b[1m1s\u001b[0m 125ms/step - loss: 0.3283 - precision: 0.9238 - recall: 0.9235\n",
            "Test Recall:    0.9158878326416016\n",
            "Test Precision: 0.9333333373069763\n"
          ]
        },
        {
          "output_type": "execute_result",
          "data": {
            "text/plain": [
              "[0.32470759749412537, 0.9158878326416016, 0.9333333373069763]"
            ]
          },
          "metadata": {},
          "execution_count": 56
        }
      ]
    },
    {
      "cell_type": "code",
      "source": [
        "import matplotlib.pyplot as plt\n",
        "\n",
        "hist = history.history\n",
        "epochs = range(1, len(hist['loss']) + 1)\n",
        "\n",
        "plt.clf()\n",
        "plt.plot(epochs, hist['precision'], label='train precision')\n",
        "plt.plot(epochs, hist['recall'],    label='train recall')\n",
        "plt.plot(epochs, hist['val_recall'], label='test recall')\n",
        "plt.plot(epochs, hist['val_precision'], label='test precision')\n",
        "\n",
        "plt.xlabel('epoch')\n",
        "plt.ylabel('precision/recall')\n",
        "plt.legend()\n",
        "\n"
      ],
      "metadata": {
        "colab": {
          "base_uri": "https://localhost:8080/",
          "height": 466
        },
        "id": "UGeFvX3PEmpJ",
        "outputId": "3e9d65de-c676-4fca-8d15-f4c0491d89b4"
      },
      "execution_count": null,
      "outputs": [
        {
          "output_type": "execute_result",
          "data": {
            "text/plain": [
              "<matplotlib.legend.Legend at 0x7bf9808715e0>"
            ]
          },
          "metadata": {},
          "execution_count": 57
        },
        {
          "output_type": "display_data",
          "data": {
            "text/plain": [
              "<Figure size 640x480 with 1 Axes>"
            ],
            "image/png": "[encoded data removed]"
          },
          "metadata": {}
        }
      ]
    },
    {
      "cell_type": "markdown",
      "source": [
        "Plot Inferences\n",
        "- A nueral network can memorize training data perfectly with lots of training (epochs = 50) but fails to generalize on test data as well.\n",
        "- Performance is around the same as simpler models with less training (epochs=25)\n",
        "- Although Neural Networks perform well on this data, it is too complex of a model to be the right choice given the simplicity of our data\n"
      ],
      "metadata": {
        "id": "sy69g1FAeYod"
      }
    },
    {
      "cell_type": "markdown",
      "source": [
        "#Reviewing Best Models\n",
        " - Gradient Boosting, and Nueral Networks performed the best.\n",
        " - Gradient Boosting will be a better choice if we can prove a minimal difference in performance"
      ],
      "metadata": {
        "id": "x8PAtOasxfU0"
      }
    },
    {
      "cell_type": "markdown",
      "source": [
        "**Hyper Parameter Tuning for GradientBoostingClassifier**"
      ],
      "metadata": {
        "id": "M7i7w2sZyTwf"
      }
    },
    {
      "cell_type": "code",
      "source": [
        "# we will grid search hyper parameters using sklearn\n",
        "# this will take a while\n",
        "from sklearn.metrics import recall_score, precision_score\n",
        "parameters = {\n",
        "    'learning_rate': [0.01, 0.05, 0.1],\n",
        "    'min_samples_split': [2, 5],\n",
        "    'min_samples_leaf': [1, 2],\n",
        "    'max_depth': [1, 3, 5],\n",
        "    'random_state': [42]\n",
        "}\n",
        "grid = GridSearchCV(estimator=GradientBoostingClassifier(), param_grid=parameters).fit(x_train, y_train)\n",
        "\n",
        "default_hp_model = GradientBoostingClassifier(random_state=42).fit(x_train, y_train)\n",
        "y_pred_df = default_hp_model.predict(x_test)\n",
        "print('Default Hyper-Parameters')\n",
        "print('-'*40)\n",
        "print(f'Recall:    {recall_score(y_test, y_pred_df)}')\n",
        "print(f'Precision: {precision_score(y_test, y_pred_df)}')\n",
        "print(f'\\n')\n",
        "y_pred = grid.best_estimator_.predict(x_test)\n",
        "print('Optimal Hyper-Parameters')\n",
        "print('-'*40)\n",
        "print(f'Recall:    {recall_score(y_test, y_pred)}')\n",
        "print(f'Precision: {precision_score(y_test, y_pred)}')\n",
        "print(f'Best Parameters: {grid.best_params_}')\n",
        "\n"
      ],
      "metadata": {
        "colab": {
          "base_uri": "https://localhost:8080/"
        },
        "id": "fs3aHMbqWCBz",
        "outputId": "506fdff1-da53-4e60-f2ab-a44ad1f24525"
      },
      "execution_count": null,
      "outputs": [
        {
          "output_type": "stream",
          "name": "stdout",
          "text": [
            "Default Hyper-Parameters\n",
            "----------------------------------------\n",
            "Recall:    0.8785046728971962\n",
            "Precision: 0.912621359223301\n",
            "\n",
            "\n",
            "Optimal Hyper-Parameters\n",
            "----------------------------------------\n",
            "Recall:    0.8691588785046729\n",
            "Precision: 0.9117647058823529\n",
            "Best Parameters: {'learning_rate': 0.05, 'max_depth': 3, 'min_samples_leaf': 2, 'min_samples_split': 2, 'random_state': 42}\n"
          ]
        }
      ]
    },
    {
      "cell_type": "markdown",
      "source": [
        "Tweaking hyper-parameters does not seem to change model perform on our desired metrics"
      ],
      "metadata": {
        "id": "G1hVwxRX3Pbh"
      }
    },
    {
      "cell_type": "markdown",
      "source": [
        "**Hyper-Parameter Tuning for RandomForestClassifier**"
      ],
      "metadata": {
        "id": "_X_cedP12Of7"
      }
    },
    {
      "cell_type": "code",
      "source": [
        "# this will also take a while\n",
        "parameters = {\n",
        "    'max_features': ['sqrt', 'log2'],\n",
        "    'min_samples_split': [2, 5],\n",
        "    'min_samples_leaf': [1, 2],\n",
        "    'max_depth': [1, 3, 5],\n",
        "    'random_state': [42]\n",
        "}\n",
        "grid = GridSearchCV(estimator=RandomForestClassifier(), param_grid=parameters).fit(x_train, y_train)\n",
        "\n",
        "default_hp_model = RandomForestClassifier(random_state=42).fit(x_train, y_train)\n",
        "y_pred_df = default_hp_model.predict(x_test)\n",
        "print('Default Hyper-Parameters')\n",
        "print('-'*40)\n",
        "print(f'Recall:    {recall_score(y_test, y_pred_df)}')\n",
        "print(f'Precision: {precision_score(y_test, y_pred_df)}')\n",
        "print(f'\\n')\n",
        "y_pred = grid.best_estimator_.predict(x_test)\n",
        "print('Optimal Hyper-Parameters')\n",
        "print('-'*40)\n",
        "print(f'Recall:    {recall_score(y_test, y_pred)}')\n",
        "print(f'Precision: {precision_score(y_test, y_pred)}')\n",
        "print(f'Best Parameters: {grid.best_params_}')"
      ],
      "metadata": {
        "colab": {
          "base_uri": "https://localhost:8080/"
        },
        "id": "v5PNWSN91MWD",
        "outputId": "fb504669-d6d0-480a-9a08-e5e287083e3c"
      },
      "execution_count": null,
      "outputs": [
        {
          "output_type": "stream",
          "name": "stdout",
          "text": [
            "Default Hyper-Parameters\n",
            "----------------------------------------\n",
            "Recall:    0.897196261682243\n",
            "Precision: 0.9230769230769231\n",
            "\n",
            "\n",
            "Optimal Hyper-Parameters\n",
            "----------------------------------------\n",
            "Recall:    0.8598130841121495\n",
            "Precision: 0.8932038834951457\n",
            "Best Parameters: {'max_depth': 5, 'max_features': 'sqrt', 'min_samples_leaf': 1, 'min_samples_split': 2, 'random_state': 42}\n"
          ]
        }
      ]
    },
    {
      "cell_type": "markdown",
      "source": [
        "RandomForestClassifier also does not improve with the tweaked hyper parameters"
      ],
      "metadata": {
        "id": "nF6RdYqk3mko"
      }
    },
    {
      "cell_type": "code",
      "source": [
        "# as a final measure we will see the effect n_estimators has on recall and precision\n",
        "from sklearn.metrics import recall_score, precision_score\n",
        "rf_recalls = []\n",
        "rf_precisions = []\n",
        "gb_recalls = []\n",
        "gb_precisions = []\n",
        "n_learners = list(range(25, 525, 25))\n",
        "\n",
        "for n in n_learners:\n",
        "  rf_model = RandomForestClassifier(n_estimators=n, random_state=42).fit(x_train, y_train)\n",
        "  y_pred_rf = rf_model.predict(x_test)\n",
        "\n",
        "  gb_model = GradientBoostingClassifier(n_estimators=n, random_state=42).fit(x_train, y_train)\n",
        "  y_pred_gb = gb_model.predict(x_test)\n",
        "\n",
        "  rf_recalls.append(recall_score(y_test, y_pred_rf))\n",
        "  rf_precisions.append(precision_score(y_test, y_pred_rf))\n",
        "  gb_recalls.append(recall_score(y_test, y_pred_gb))\n",
        "  gb_precisions.append(precision_score(y_test, y_pred_gb))\n",
        "\n",
        "plt.clf()\n",
        "plt.plot(n_learners, rf_precisions, c='b', label='RF Precision', linestyle='--')\n",
        "plt.plot(n_learners, rf_recalls, c='b', label='RF Recall')\n",
        "plt.plot(n_learners, gb_precisions, c='r', label='GB Precision', linestyle='--')\n",
        "plt.plot(n_learners, gb_recalls, c='r', label='GB Recall')\n",
        "plt.xlabel('N Learners')\n",
        "plt.ylabel('Score')\n",
        "plt.legend()\n",
        "plt.show()"
      ],
      "metadata": {
        "colab": {
          "base_uri": "https://localhost:8080/",
          "height": 449
        },
        "id": "HZRdi-Efh2YS",
        "outputId": "0901c93b-7eb3-4862-907b-1152621378f3"
      },
      "execution_count": null,
      "outputs": [
        {
          "output_type": "display_data",
          "data": {
            "text/plain": [
              "<Figure size 640x480 with 1 Axes>"
            ],
            "image/png": "[encoded data removed]"
          },
          "metadata": {}
        }
      ]
    },
    {
      "cell_type": "markdown",
      "source": [
        "A random forest model seems to have the least variance between precision and recall values while being comprable to gradient boosted trees. N_learners = 325 seems to produce the highest scores weve seen so far without using a nueral network."
      ],
      "metadata": {
        "id": "42F52sDh56SK"
      }
    },
    {
      "cell_type": "markdown",
      "source": [
        "#Results/Discussion\n",
        "From experiementation we see that random forests and nueral networks perform the best on this data to predict heart disease when trying to optimize precision and recall. <br>\n",
        "<br>\n",
        "Precision was consistently higher than recall throughout this project. In the case of detecting heart disease, recall should be prioritized without compromising precision. A preferable model would get a recall score of at least 0.95 with a precision score of at least 0.9.<br>\n",
        "<br>\n",
        "We failed to create a model that sufficiently reaches our previously mentioned goals. I do not believe this to be a mistake in model selection but in the data itself. Models would likely perform better with additional features in the data or more training examples given that a nueral network was only about 90% accurate on test data."
      ],
      "metadata": {
        "id": "qQAFBO5O6qrU"
      }
    }
  ]
}